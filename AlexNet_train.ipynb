{
  "nbformat": 4,
  "nbformat_minor": 0,
  "metadata": {
    "accelerator": "GPU",
    "colab": {
      "name": "AlexNet_train.ipynb",
      "provenance": [],
      "collapsed_sections": [
        "cUmPPwn12x8q"
      ],
      "include_colab_link": true
    },
    "kernelspec": {
      "display_name": "Python 3",
      "name": "python3"
    }
  },
  "cells": [
    {
      "cell_type": "markdown",
      "metadata": {
        "id": "view-in-github",
        "colab_type": "text"
      },
      "source": [
        "<a href=\"https://colab.research.google.com/github/mcupk/FaceDetection/blob/main/AlexNet_train.ipynb\" target=\"_parent\"><img src=\"https://colab.research.google.com/assets/colab-badge.svg\" alt=\"Open In Colab\"/></a>"
      ]
    },
    {
      "cell_type": "markdown",
      "metadata": {
        "id": "FjXIK8FVG_hx"
      },
      "source": [
        "# Connect My Drive"
      ]
    },
    {
      "cell_type": "code",
      "metadata": {
        "colab": {
          "base_uri": "https://localhost:8080/"
        },
        "id": "jzbA-Rexr4KO",
        "outputId": "44c0c52a-b020-4b27-e442-c7e31d08691b"
      },
      "source": [
        "from google.colab import drive\n",
        "drive.mount('/content/drive')"
      ],
      "execution_count": null,
      "outputs": [
        {
          "output_type": "stream",
          "text": [
            "Drive already mounted at /content/drive; to attempt to forcibly remount, call drive.mount(\"/content/drive\", force_remount=True).\n"
          ],
          "name": "stdout"
        }
      ]
    },
    {
      "cell_type": "code",
      "metadata": {
        "colab": {
          "base_uri": "https://localhost:8080/"
        },
        "id": "6W8oBQ8DsLy6",
        "outputId": "c09accd3-0187-46f4-ed7b-065a4e608e50"
      },
      "source": [
        "%cd drive/My Drive/Colab Notebooks/Dataset/tarball-lite/AFAD-Lite/"
      ],
      "execution_count": null,
      "outputs": [
        {
          "output_type": "stream",
          "text": [
            "/content/drive/My Drive/Colab Notebooks/Dataset/tarball-lite/AFAD-Lite\n"
          ],
          "name": "stdout"
        }
      ]
    },
    {
      "cell_type": "markdown",
      "metadata": {
        "id": "QlPQmC8_sTwY"
      },
      "source": [
        "# Creating Custom Dataset\n"
      ]
    },
    {
      "cell_type": "code",
      "metadata": {
        "id": "ixNRh6WcUEW-"
      },
      "source": [
        "from torch.utils.data import Dataset\n",
        "from  PIL import Image\n",
        "import pandas as pd\n",
        "import os\n",
        "import torch\n",
        "from skimage import io\n",
        "\n",
        "class FaceData(Dataset):\n",
        "  def __init__(self, root_dir, csv_file, transform=None):\n",
        "    self.annotations = pd.read_csv(csv_file)\n",
        "    self.root_dir = root_dir\n",
        "    self.transform = transform\n",
        "\n",
        "  def __len__(self):\n",
        "    return len(self.annotations)\n",
        "\n",
        "  def __getitem__(self, index):\n",
        "    # img_path = os.path.join(self.root_dir, self.annotations.iloc[index, 1])\n",
        "    # img = io.imread(img_path)\n",
        "    img_id = self.annotations.iloc[index, 1]\n",
        "    img = Image.open(os.path.join(self.root_dir, img_id)).convert(\"RGB\")\n",
        "    y_label = self.annotations.iloc[index, 2:]\n",
        "    y_label = y_label.astype(\"float\", copy=False)\n",
        "    y_label = torch.tensor(y_label)\n",
        "    if self.transform:\n",
        "      img = self.transform(img)\n",
        "    \n",
        "    return (img, y_label)"
      ],
      "execution_count": null,
      "outputs": []
    },
    {
      "cell_type": "markdown",
      "metadata": {
        "id": "8c_dpbTDxVDB"
      },
      "source": [
        "# Creating Model"
      ]
    },
    {
      "cell_type": "code",
      "metadata": {
        "id": "4LUSxs0Gn-zT"
      },
      "source": [
        "import torch\n",
        "import torch.nn as nn\n",
        "import torchvision.models as models\n",
        "\n",
        "class AlexNet(nn.Module):\n",
        "  def __init__(self, train_AlexNet=False, num_classes=21):\n",
        "    super(AlexNet, self).__init__()\n",
        "    self.train_CNN = train_CNN\n",
        "    self.alexnet = torch.hub.load('pytorch/vision:v0.9.0', 'alexnet', pretrained=True)\n",
        "    self.alexnet.classifier[6] = nn.Linear(4096, num_classes)\n",
        "    self.relu = nn.ReLU()\n",
        "    self.dropout = nn.Dropout(0.5)\n",
        "    self.linear = nn.Sequential()\n",
        "    # self.linear2 = nn.Linear(32*73*73, 21)\n",
        "    self.alexnet.eval()\n",
        "\n",
        "  def forward(self, x):\n",
        "    features = self.alexnet(x)\n",
        "  \n",
        "    return features\n",
        "    return self.linear(self.dropout(self.relu(features))).squeeze(1)\n",
        "\n",
        "    # return out"
      ],
      "execution_count": null,
      "outputs": []
    },
    {
      "cell_type": "markdown",
      "metadata": {
        "id": "gpjoQOI13JPQ"
      },
      "source": [
        "# Importing Libraries for training Loop"
      ]
    },
    {
      "cell_type": "code",
      "metadata": {
        "id": "KdZbjwgt2kFb"
      },
      "source": [
        "import torch\n",
        "import torch.nn as nn\n",
        "from torch.utils.data import DataLoader\n",
        "import torchvision.transforms as transforms\n",
        "from tqdm import tqdm\n",
        "import numpy as np\n",
        "\n",
        "# import tqdm\n",
        "\n",
        "device = (\"cuda\" if torch.cuda.is_available() else \"cpu\")"
      ],
      "execution_count": null,
      "outputs": []
    },
    {
      "cell_type": "markdown",
      "metadata": {
        "id": "qDKm7sSB3elG"
      },
      "source": [
        "# Transformations"
      ]
    },
    {
      "cell_type": "code",
      "metadata": {
        "id": "ASRYjQp_3Gkx"
      },
      "source": [
        "transform = transforms.Compose([\n",
        "        transforms.Resize((356, 356)),\n",
        "        transforms.RandomCrop((299, 299)),\n",
        "        transforms.ToTensor(),\n",
        "        transforms.Normalize((0.5, 0.5, 0.5),(0.5, 0.5, 0.5))\n",
        "])"
      ],
      "execution_count": null,
      "outputs": []
    },
    {
      "cell_type": "markdown",
      "metadata": {
        "id": "gXZ9HO9E4Cyw"
      },
      "source": [
        "# Hyperparameters"
      ]
    },
    {
      "cell_type": "code",
      "metadata": {
        "id": "rBRiv9ja4BYj"
      },
      "source": [
        "num_epochs = 15\n",
        "learning_rate = 0.001\n",
        "train_CNN = False\n",
        "batch_size = 32\n",
        "shuffle = True\n",
        "pin_memory = True\n",
        "num_workers = 2 "
      ],
      "execution_count": null,
      "outputs": []
    },
    {
      "cell_type": "markdown",
      "metadata": {
        "id": "d8gEXAVR4lno"
      },
      "source": [
        "# Setting the dataset and dataloader"
      ]
    },
    {
      "cell_type": "code",
      "metadata": {
        "id": "JSC23OXD4kkk"
      },
      "source": [
        "dataset = FaceData(\"train\", \"New_train.csv\", transform=transform)\n",
        "lenghts = [int(round(len(dataset)*0.7)),int(round(len(dataset)*0.2)),\n",
        "           int(round(len(dataset)*0.1))]\n",
        "train_set, validation_set, test_set = torch.utils.data.random_split(dataset, lenghts)\n",
        "train_loader = DataLoader(dataset=train_set, shuffle=shuffle,\n",
        "                          batch_size=batch_size, num_workers=num_workers,\n",
        "                          pin_memory=pin_memory)\n",
        "validation_loader = DataLoader(dataset=validation_set, shuffle=shuffle,\n",
        "                               batch_size=batch_size,num_workers=num_workers,\n",
        "                               pin_memory=pin_memory)\n",
        "test_loader = DataLoader(dataset=test_set, shuffle=shuffle,\n",
        "                          batch_size=batch_size, num_workers=num_workers,\n",
        "                          pin_memory=pin_memory)"
      ],
      "execution_count": null,
      "outputs": []
    },
    {
      "cell_type": "code",
      "metadata": {
        "colab": {
          "base_uri": "https://localhost:8080/"
        },
        "id": "nTXysu5n6Fkq",
        "outputId": "80f859f2-8728-4937-cd92-19267d55c897"
      },
      "source": [
        "model = AlexNet().to(device)\n",
        "\n",
        "criterion = nn.MSELoss()\n",
        "optimizer = torch.optim.Adam(model.parameters(), lr=learning_rate)\n",
        "scheduler = torch.optim.lr_scheduler.StepLR(optimizer, step_size=5,gamma=0.1)"
      ],
      "execution_count": null,
      "outputs": [
        {
          "output_type": "stream",
          "text": [
            "Using cache found in /root/.cache/torch/hub/pytorch_vision_v0.9.0\n"
          ],
          "name": "stderr"
        }
      ]
    },
    {
      "cell_type": "markdown",
      "metadata": {
        "id": "5GXJUUtB68mR"
      },
      "source": [
        "# Accuracy Check"
      ]
    },
    {
      "cell_type": "code",
      "metadata": {
        "id": "Go1e4ZYu66wZ"
      },
      "source": [
        "def check_accuracy(loader, model):\n",
        "  if loader == train_loader:\n",
        "    print(\"Checking accuracy on training data\")\n",
        "  else:\n",
        "    print(\"Checking accuracy on validation data\")\n",
        "\n",
        "  num_correct = 0\n",
        "  num_samples = 0\n",
        "  model.eval()\n",
        "\n",
        "  with torch.no_grad():\n",
        "    for x, y in loader:\n",
        "        x = x.to(device=device)\n",
        "        y = y.to(device=decice)\n",
        "\n",
        "        scores = model(x)\n",
        "        predictions = torch.tensor([1.0 if i >= 0.5 else 0.0 for i in scores]).to(device)\n",
        "        num_correct += (predictions == y).sum()\n",
        "        num_samples += predictions.size(0)\n",
        "  return f\"{float(num_correct)/float(num_samples)*100:.2f}\"\n",
        "\n",
        "  print(\n",
        "      f\"Got {num_correct}/{num_samples} with accuracy {float(num_correct)/float(num_samples)*100:.2f}\"\n",
        "  )\n",
        "\n",
        "  model.train()"
      ],
      "execution_count": null,
      "outputs": []
    },
    {
      "cell_type": "markdown",
      "metadata": {
        "id": "gZFbKBAoBWlB"
      },
      "source": [
        "# Train\n"
      ]
    },
    {
      "cell_type": "code",
      "metadata": {
        "colab": {
          "base_uri": "https://localhost:8080/"
        },
        "id": "guINLoPxAfgX",
        "outputId": "d4745cef-fe3a-44f6-f577-72b54394c3e1"
      },
      "source": [
        "def train():\n",
        "  model.train()\n",
        "  for epoch in range(num_epochs):\n",
        "    \n",
        "    training_loss = 0.0\n",
        "    val_loss = 0.0\n",
        "    val_acc = 0\n",
        "    validation = 0.0\n",
        "    total = 0\n",
        "    correct_preds = 0\n",
        "    total_train = 0\n",
        "    correct_train = 0\n",
        "    train_acc = 0\n",
        "    \n",
        "    loop = tqdm(train_loader, total=len(train_loader), leave=True)\n",
        "\n",
        "    for imgs, labels in loop:\n",
        "        imgs = imgs.to(device)\n",
        "        labels = labels.to(device)\n",
        "        outputs = model(imgs)\n",
        "        \n",
        "        \n",
        "        total_train += labels.size(0)\n",
        "        _, prediction_train = torch.max(outputs.data, 1)\n",
        "        _, y_labels = torch.max(labels.data, 1)\n",
        "        # print(prediction_train.type())\n",
        "        # print(y_labels.type())\n",
        "        correct_train += (prediction_train == y_labels).sum().item()\n",
        "        # print('correct_train',correct_train)\n",
        "\n",
        "        loss = criterion(outputs.float(),labels.float())\n",
        "\n",
        "        optimizer.zero_grad()\n",
        "        loss.backward()\n",
        "        optimizer.step()\n",
        "        scheduler.step()\n",
        "        training_loss += loss.item()\n",
        "       \n",
        "        \n",
        "    valid_data_loader = tqdm(validation_loader, total=len(validation_loader), leave=True)   \n",
        "\n",
        "    with torch.no_grad():\n",
        "      model.eval()\n",
        "      for imgs, labels in valid_data_loader:\n",
        "          imgs = imgs.to(device)\n",
        "          labels = labels.to(device)\n",
        "          outputs = model(imgs)\n",
        "\n",
        "          val_loss = criterion(outputs, labels) \n",
        "          validation += val_loss.item()\n",
        "\n",
        "          total += labels.size(0)\n",
        "          _, prediction = torch.max(outputs.data, 1)\n",
        "          # print('predicted: ', prediction)\n",
        "          _, y_labels = torch.max(labels, 1)\n",
        "          correct_preds += (prediction==y_labels).sum().item()\n",
        "          # print('correct_preds: ', correct_preds)\n",
        "          # print('prediction == labels: ', (prediction == labels).sum().item())\n",
        "          # print('labels: ', labels)\n",
        "           \n",
        "      train_acc = 100 *(correct_train / total_train)    \n",
        "      val_acc = 100 * (correct_preds / total)\n",
        "      \n",
        "\n",
        "      training_loss /= len(loop)\n",
        "      validation /= len(valid_data_loader)\n",
        "      print(f'Epoch [{epoch}/{num_epochs}]  Training loss: {training_loss}.. Validation Loss: {validation}')\n",
        "      print('Training Accuracy is : {:.2f}%'.format(train_acc))\n",
        "      print('Validation Accuracy is : {:.2f}%'.format(val_acc))\n",
        "\n",
        "if __name__ == \"__main__\":\n",
        "  train()"
      ],
      "execution_count": null,
      "outputs": [
        {
          "output_type": "stream",
          "text": [
            "100%|██████████| 1259/1259 [1:39:06<00:00,  4.72s/it]\n",
            "100%|██████████| 360/360 [25:47<00:00,  4.30s/it]\n",
            "  0%|          | 0/1259 [00:00<?, ?it/s]"
          ],
          "name": "stderr"
        },
        {
          "output_type": "stream",
          "text": [
            "Epoch [0/15]  Training loss: 0.04563292582845574.. Validation Loss: 0.045240732085047856\n",
            "Training Accuracy is : 8.01%\n",
            "Validation Accuracy is : 7.68%\n"
          ],
          "name": "stdout"
        },
        {
          "output_type": "stream",
          "text": [
            "100%|██████████| 1259/1259 [04:08<00:00,  5.07it/s]\n",
            "100%|██████████| 360/360 [01:06<00:00,  5.43it/s]\n",
            "  0%|          | 0/1259 [00:00<?, ?it/s]"
          ],
          "name": "stderr"
        },
        {
          "output_type": "stream",
          "text": [
            "Epoch [1/15]  Training loss: 0.04525695925517817.. Validation Loss: 0.04524900178607501\n",
            "Training Accuracy is : 7.33%\n",
            "Validation Accuracy is : 7.51%\n"
          ],
          "name": "stdout"
        },
        {
          "output_type": "stream",
          "text": [
            "100%|██████████| 1259/1259 [04:01<00:00,  5.21it/s]\n",
            "100%|██████████| 360/360 [01:06<00:00,  5.45it/s]\n",
            "  0%|          | 0/1259 [00:00<?, ?it/s]"
          ],
          "name": "stderr"
        },
        {
          "output_type": "stream",
          "text": [
            "Epoch [2/15]  Training loss: 0.045260594810068465.. Validation Loss: 0.04524276838483955\n",
            "Training Accuracy is : 7.39%\n",
            "Validation Accuracy is : 7.52%\n"
          ],
          "name": "stdout"
        },
        {
          "output_type": "stream",
          "text": [
            "100%|██████████| 1259/1259 [04:12<00:00,  4.99it/s]\n",
            "100%|██████████| 360/360 [01:05<00:00,  5.52it/s]\n",
            "  0%|          | 0/1259 [00:00<?, ?it/s]"
          ],
          "name": "stderr"
        },
        {
          "output_type": "stream",
          "text": [
            "Epoch [3/15]  Training loss: 0.045259142236827005.. Validation Loss: 0.0452443935766125\n",
            "Training Accuracy is : 7.44%\n",
            "Validation Accuracy is : 7.59%\n"
          ],
          "name": "stdout"
        },
        {
          "output_type": "stream",
          "text": [
            "100%|██████████| 1259/1259 [04:13<00:00,  4.97it/s]\n",
            "100%|██████████| 360/360 [01:08<00:00,  5.24it/s]\n",
            "  0%|          | 0/1259 [00:00<?, ?it/s]"
          ],
          "name": "stderr"
        },
        {
          "output_type": "stream",
          "text": [
            "Epoch [4/15]  Training loss: 0.04525822285056777.. Validation Loss: 0.04524232408234901\n",
            "Training Accuracy is : 7.38%\n",
            "Validation Accuracy is : 7.58%\n"
          ],
          "name": "stdout"
        },
        {
          "output_type": "stream",
          "text": [
            "100%|██████████| 1259/1259 [04:02<00:00,  5.20it/s]\n",
            "100%|██████████| 360/360 [01:05<00:00,  5.49it/s]\n",
            "  0%|          | 0/1259 [00:00<?, ?it/s]"
          ],
          "name": "stderr"
        },
        {
          "output_type": "stream",
          "text": [
            "Epoch [5/15]  Training loss: 0.04525403800916823.. Validation Loss: 0.045246172380095345\n",
            "Training Accuracy is : 7.41%\n",
            "Validation Accuracy is : 7.63%\n"
          ],
          "name": "stdout"
        },
        {
          "output_type": "stream",
          "text": [
            "100%|██████████| 1259/1259 [04:03<00:00,  5.16it/s]\n",
            "100%|██████████| 360/360 [01:05<00:00,  5.49it/s]\n",
            "  0%|          | 0/1259 [00:00<?, ?it/s]"
          ],
          "name": "stderr"
        },
        {
          "output_type": "stream",
          "text": [
            "Epoch [6/15]  Training loss: 0.04526239964960112.. Validation Loss: 0.045243215767141326\n",
            "Training Accuracy is : 7.40%\n",
            "Validation Accuracy is : 7.41%\n"
          ],
          "name": "stdout"
        },
        {
          "output_type": "stream",
          "text": [
            "100%|██████████| 1259/1259 [04:07<00:00,  5.09it/s]\n",
            "100%|██████████| 360/360 [01:03<00:00,  5.66it/s]\n",
            "  0%|          | 0/1259 [00:00<?, ?it/s]"
          ],
          "name": "stderr"
        },
        {
          "output_type": "stream",
          "text": [
            "Epoch [7/15]  Training loss: 0.04525020840778249.. Validation Loss: 0.0452439383541251\n",
            "Training Accuracy is : 7.41%\n",
            "Validation Accuracy is : 7.47%\n"
          ],
          "name": "stdout"
        },
        {
          "output_type": "stream",
          "text": [
            "100%|██████████| 1259/1259 [04:03<00:00,  5.16it/s]\n",
            "100%|██████████| 360/360 [01:05<00:00,  5.51it/s]\n",
            "  0%|          | 0/1259 [00:00<?, ?it/s]"
          ],
          "name": "stderr"
        },
        {
          "output_type": "stream",
          "text": [
            "Epoch [8/15]  Training loss: 0.04525599940853804.. Validation Loss: 0.04525175290198265\n",
            "Training Accuracy is : 7.39%\n",
            "Validation Accuracy is : 7.69%\n"
          ],
          "name": "stdout"
        },
        {
          "output_type": "stream",
          "text": [
            "100%|██████████| 1259/1259 [04:08<00:00,  5.06it/s]\n",
            "100%|██████████| 360/360 [01:05<00:00,  5.49it/s]\n",
            "  0%|          | 0/1259 [00:00<?, ?it/s]"
          ],
          "name": "stderr"
        },
        {
          "output_type": "stream",
          "text": [
            "Epoch [9/15]  Training loss: 0.04525662288424796.. Validation Loss: 0.045242884846974696\n",
            "Training Accuracy is : 7.43%\n",
            "Validation Accuracy is : 7.59%\n"
          ],
          "name": "stdout"
        },
        {
          "output_type": "stream",
          "text": [
            "100%|██████████| 1259/1259 [04:02<00:00,  5.20it/s]\n",
            "100%|██████████| 360/360 [01:05<00:00,  5.53it/s]\n",
            "  0%|          | 0/1259 [00:00<?, ?it/s]"
          ],
          "name": "stderr"
        },
        {
          "output_type": "stream",
          "text": [
            "Epoch [10/15]  Training loss: 0.045258098205727564.. Validation Loss: 0.04523986388021031\n",
            "Training Accuracy is : 7.41%\n",
            "Validation Accuracy is : 7.59%\n"
          ],
          "name": "stdout"
        },
        {
          "output_type": "stream",
          "text": [
            "100%|██████████| 1259/1259 [03:59<00:00,  5.25it/s]\n",
            "100%|██████████| 360/360 [01:08<00:00,  5.27it/s]\n",
            "  0%|          | 0/1259 [00:00<?, ?it/s]"
          ],
          "name": "stderr"
        },
        {
          "output_type": "stream",
          "text": [
            "Epoch [11/15]  Training loss: 0.04525920365233569.. Validation Loss: 0.04523549868527748\n",
            "Training Accuracy is : 7.51%\n",
            "Validation Accuracy is : 7.65%\n"
          ],
          "name": "stdout"
        },
        {
          "output_type": "stream",
          "text": [
            "100%|██████████| 1259/1259 [04:07<00:00,  5.08it/s]\n",
            "100%|██████████| 360/360 [01:07<00:00,  5.35it/s]\n",
            "  0%|          | 0/1259 [00:00<?, ?it/s]"
          ],
          "name": "stderr"
        },
        {
          "output_type": "stream",
          "text": [
            "Epoch [12/15]  Training loss: 0.04525695883205147.. Validation Loss: 0.04523665799617101\n",
            "Training Accuracy is : 7.57%\n",
            "Validation Accuracy is : 7.59%\n"
          ],
          "name": "stdout"
        },
        {
          "output_type": "stream",
          "text": [
            "100%|██████████| 1259/1259 [04:05<00:00,  5.13it/s]\n",
            "100%|██████████| 360/360 [01:07<00:00,  5.35it/s]\n",
            "  0%|          | 0/1259 [00:00<?, ?it/s]"
          ],
          "name": "stderr"
        },
        {
          "output_type": "stream",
          "text": [
            "Epoch [13/15]  Training loss: 0.045256225515017914.. Validation Loss: 0.045241968012066466\n",
            "Training Accuracy is : 7.39%\n",
            "Validation Accuracy is : 7.47%\n"
          ],
          "name": "stdout"
        },
        {
          "output_type": "stream",
          "text": [
            "100%|██████████| 1259/1259 [04:00<00:00,  5.23it/s]\n",
            "100%|██████████| 360/360 [01:07<00:00,  5.36it/s]"
          ],
          "name": "stderr"
        },
        {
          "output_type": "stream",
          "text": [
            "Epoch [14/15]  Training loss: 0.04525775512394875.. Validation Loss: 0.04525474617168488\n",
            "Training Accuracy is : 7.36%\n",
            "Validation Accuracy is : 7.36%\n"
          ],
          "name": "stdout"
        },
        {
          "output_type": "stream",
          "text": [
            "\n"
          ],
          "name": "stderr"
        }
      ]
    },
    {
      "cell_type": "code",
      "metadata": {
        "id": "uYKzGcbV1NBD"
      },
      "source": [
        ""
      ],
      "execution_count": null,
      "outputs": []
    }
  ]
}